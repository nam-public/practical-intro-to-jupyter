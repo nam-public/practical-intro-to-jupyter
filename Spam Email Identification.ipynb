{
 "cells": [
  {
   "cell_type": "markdown",
   "source": [
    "# Spam Email Classification"
   ],
   "metadata": {
    "collapsed": false
   },
   "id": "e196e7994bab5ede"
  },
  {
   "cell_type": "markdown",
   "source": [
    "Alright, welcome back to our Jupyter explorations. It's another here, and we have a new task at hand. In the previous travel we learnt about large data transformation. We took some extremely high dimensional data and transformed it into a dimension that made sense for our training purposes. Today we have data that's not just in wrong dimensions, that data is in a wrong format. \n",
    "\n",
    "We're going to find a way to convert this data into a format, that's suitable for our AI to analyze. Let's get started with our Spam Email Classification."
   ],
   "metadata": {
    "collapsed": false
   },
   "id": "e4e3a12225485d31"
  },
  {
   "cell_type": "code",
   "execution_count": 1,
   "outputs": [],
   "source": [
    "#As usual, we start by importing all our needed libraries.\n",
    "import numpy as np\n",
    "import pandas as pd\n",
    "from sklearn.model_selection import train_test_split\n",
    "from sklearn.feature_extraction.text import TfidfVectorizer\n",
    "from sklearn.linear_model import LogisticRegression\n",
    "from sklearn.metrics import accuracy_score"
   ],
   "metadata": {
    "collapsed": false,
    "ExecuteTime": {
     "end_time": "2023-09-25T14:39:48.205025300Z",
     "start_time": "2023-09-25T14:39:47.031848400Z"
    }
   },
   "id": "e6467d70f6e4d72a"
  },
  {
   "cell_type": "markdown",
   "source": [
    "# Data Importation\n",
    "By this time, I reckon you're starting to get the hung of things. We're going to start by importing our data and trying to do some pre-training analysis on it. \n",
    "\n",
    "In this case, that data we're importing is a single csv called \"sec-data.csv\" and as such we shall need to split our data ourselves. Into the training and test sets."
   ],
   "metadata": {
    "collapsed": false
   },
   "id": "2d83b56d8006411b"
  },
  {
   "cell_type": "code",
   "execution_count": 3,
   "outputs": [],
   "source": [
    "mail_df = pd.read_csv(\"sec-data.csv\") #Load the data"
   ],
   "metadata": {
    "collapsed": false,
    "ExecuteTime": {
     "end_time": "2023-09-25T14:47:08.483479700Z",
     "start_time": "2023-09-25T14:47:08.470959500Z"
    }
   },
   "id": "96f0d06bdfb8503d"
  },
  {
   "cell_type": "markdown",
   "source": [
    "Let's go ahead and print some details about our data"
   ],
   "metadata": {
    "collapsed": false
   },
   "id": "fd87f205060c4ec0"
  },
  {
   "cell_type": "code",
   "execution_count": 7,
   "outputs": [
    {
     "name": "stdout",
     "output_type": "stream",
     "text": [
      "Data shape:  (5572, 2) \n",
      "\n",
      "Data summary:  \n",
      "      Category                                            Message\n",
      "0         ham  Go until jurong point, crazy.. Available only ...\n",
      "1         ham                      Ok lar... Joking wif u oni...\n",
      "2        spam  Free entry in 2 a wkly comp to win FA Cup fina...\n",
      "3         ham  U dun say so early hor... U c already then say...\n",
      "4         ham  Nah I don't think he goes to usf, he lives aro...\n",
      "...       ...                                                ...\n",
      "5567     spam  This is the 2nd time we have tried 2 contact u...\n",
      "5568      ham               Will ü b going to esplanade fr home?\n",
      "5569      ham  Pity, * was in mood for that. So...any other s...\n",
      "5570      ham  The guy did some bitching but I acted like i'd...\n",
      "5571      ham                         Rofl. Its true to its name\n",
      "\n",
      "[5572 rows x 2 columns]\n"
     ]
    }
   ],
   "source": [
    "print( \"Data shape: \",mail_df.shape, \"\\n\")\n",
    "print(\"Data summary: \",\"\\n\", mail_df)"
   ],
   "metadata": {
    "collapsed": false,
    "ExecuteTime": {
     "end_time": "2023-09-25T14:49:06.653739500Z",
     "start_time": "2023-09-25T14:49:06.651742600Z"
    }
   },
   "id": "90ff27c148f4b8e7"
  },
  {
   "cell_type": "markdown",
   "source": [
    "Alright, perfect we have 5572 samples, and each sample has two features; The text and whether it hand mail(ham) or spam. Since we're at risk of having null entries in our data, let's check for that, and if we do have some of those, we can remove them."
   ],
   "metadata": {
    "collapsed": false
   },
   "id": "b10a4e16fcb68ad7"
  },
  {
   "cell_type": "code",
   "execution_count": 8,
   "outputs": [
    {
     "name": "stdout",
     "output_type": "stream",
     "text": [
      "<class 'pandas.core.frame.DataFrame'>\n",
      "RangeIndex: 5572 entries, 0 to 5571\n",
      "Data columns (total 2 columns):\n",
      " #   Column    Non-Null Count  Dtype \n",
      "---  ------    --------------  ----- \n",
      " 0   Category  5572 non-null   object\n",
      " 1   Message   5572 non-null   object\n",
      "dtypes: object(2)\n",
      "memory usage: 87.2+ KB\n",
      "None\n"
     ]
    }
   ],
   "source": [
    "print(mail_df.info())"
   ],
   "metadata": {
    "collapsed": false,
    "ExecuteTime": {
     "end_time": "2023-09-25T14:51:17.246296600Z",
     "start_time": "2023-09-25T14:51:17.226642Z"
    }
   },
   "id": "709151a95d083f83"
  },
  {
   "cell_type": "markdown",
   "source": [
    "From the looks of it, our data is spotless, and we do not have any null entries. \n",
    "\n",
    "Now we need to modify our data to make it trainable. We need to do this because currently our output is either \"spam\" or \"ham\" but our ML models are not able to output or input text. It is thus common that in these sorts of situations, we convert the text input and output into some digit that represents the range of possible variants we can have. \n",
    "\n",
    "Let's do this in this dataset by replacing the 'Category' feature with 1 or 0 depending on whether it is spam or ham respectively. "
   ],
   "metadata": {
    "collapsed": false
   },
   "id": "b6240b957fe67482"
  },
  {
   "cell_type": "code",
   "execution_count": 9,
   "outputs": [],
   "source": [
    "mail_df.loc[mail_df['Category'] == 'spam', 'Category',] = 0\n",
    "mail_df.loc[mail_df['Category'] == 'ham', 'Category',] = 1"
   ],
   "metadata": {
    "collapsed": false,
    "ExecuteTime": {
     "end_time": "2023-09-25T14:58:18.133962700Z",
     "start_time": "2023-09-25T14:58:18.114012100Z"
    }
   },
   "id": "a3d171a6d4899f45"
  },
  {
   "cell_type": "markdown",
   "source": [
    "Let's check what our data frame looks like now."
   ],
   "metadata": {
    "collapsed": false
   },
   "id": "e3a7237a33d22531"
  },
  {
   "cell_type": "code",
   "execution_count": 10,
   "outputs": [
    {
     "name": "stdout",
     "output_type": "stream",
     "text": [
      "     Category                                            Message\n",
      "0           1  Go until jurong point, crazy.. Available only ...\n",
      "1           1                      Ok lar... Joking wif u oni...\n",
      "2           0  Free entry in 2 a wkly comp to win FA Cup fina...\n",
      "3           1  U dun say so early hor... U c already then say...\n",
      "4           1  Nah I don't think he goes to usf, he lives aro...\n",
      "...       ...                                                ...\n",
      "5567        0  This is the 2nd time we have tried 2 contact u...\n",
      "5568        1               Will ü b going to esplanade fr home?\n",
      "5569        1  Pity, * was in mood for that. So...any other s...\n",
      "5570        1  The guy did some bitching but I acted like i'd...\n",
      "5571        1                         Rofl. Its true to its name\n",
      "\n",
      "[5572 rows x 2 columns]\n"
     ]
    }
   ],
   "source": [
    "print(mail_df)"
   ],
   "metadata": {
    "collapsed": false,
    "ExecuteTime": {
     "end_time": "2023-09-25T15:06:22.361206600Z",
     "start_time": "2023-09-25T15:06:22.354222900Z"
    }
   },
   "id": "7df96240bc0a47ec"
  },
  {
   "cell_type": "markdown",
   "source": [
    "Perfect, now we can create our data splits"
   ],
   "metadata": {
    "collapsed": false
   },
   "id": "336f24cec3a5c91f"
  },
  {
   "cell_type": "code",
   "execution_count": 36,
   "outputs": [],
   "source": [
    "X = mail_df['Message']\n",
    "Y = mail_df['Category']\n",
    "X_train,X_test,Y_train, Y_test = train_test_split(X,Y,test_size=0.2, random_state=3)"
   ],
   "metadata": {
    "collapsed": false,
    "ExecuteTime": {
     "end_time": "2023-09-25T16:28:42.146133200Z",
     "start_time": "2023-09-25T16:28:42.133657700Z"
    }
   },
   "id": "55a57713781969f2"
  },
  {
   "cell_type": "markdown",
   "source": [
    "Alright, now that we've split our data, it's time to vectorize it. By this, we mean convert data that was previously not in numerical format into unique numerical representations. "
   ],
   "metadata": {
    "collapsed": false
   },
   "id": "a8101b0097f7dedf"
  },
  {
   "cell_type": "code",
   "execution_count": 37,
   "outputs": [],
   "source": [
    "features = TfidfVectorizer(min_df=1, stop_words='english', lowercase=True)\n",
    "\n",
    "X_train_features = features.fit_transform(X_train)\n",
    "X_test_features = features.transform(X_test)\n",
    "\n",
    "Y_train = Y_train.astype('int')\n",
    "Y_test = Y_test.astype('int')"
   ],
   "metadata": {
    "collapsed": false,
    "ExecuteTime": {
     "end_time": "2023-09-25T16:28:46.584376700Z",
     "start_time": "2023-09-25T16:28:46.513135300Z"
    }
   },
   "id": "2c07fe0468f60ba6"
  },
  {
   "cell_type": "markdown",
   "source": [
    "Now we can go ahead and create our model and start to train it on our data. "
   ],
   "metadata": {
    "collapsed": false
   },
   "id": "77c134ce2b35d602"
  },
  {
   "cell_type": "code",
   "execution_count": 38,
   "outputs": [
    {
     "data": {
      "text/plain": "LogisticRegression()",
      "text/html": "<style>#sk-container-id-6 {color: black;}#sk-container-id-6 pre{padding: 0;}#sk-container-id-6 div.sk-toggleable {background-color: white;}#sk-container-id-6 label.sk-toggleable__label {cursor: pointer;display: block;width: 100%;margin-bottom: 0;padding: 0.3em;box-sizing: border-box;text-align: center;}#sk-container-id-6 label.sk-toggleable__label-arrow:before {content: \"▸\";float: left;margin-right: 0.25em;color: #696969;}#sk-container-id-6 label.sk-toggleable__label-arrow:hover:before {color: black;}#sk-container-id-6 div.sk-estimator:hover label.sk-toggleable__label-arrow:before {color: black;}#sk-container-id-6 div.sk-toggleable__content {max-height: 0;max-width: 0;overflow: hidden;text-align: left;background-color: #f0f8ff;}#sk-container-id-6 div.sk-toggleable__content pre {margin: 0.2em;color: black;border-radius: 0.25em;background-color: #f0f8ff;}#sk-container-id-6 input.sk-toggleable__control:checked~div.sk-toggleable__content {max-height: 200px;max-width: 100%;overflow: auto;}#sk-container-id-6 input.sk-toggleable__control:checked~label.sk-toggleable__label-arrow:before {content: \"▾\";}#sk-container-id-6 div.sk-estimator input.sk-toggleable__control:checked~label.sk-toggleable__label {background-color: #d4ebff;}#sk-container-id-6 div.sk-label input.sk-toggleable__control:checked~label.sk-toggleable__label {background-color: #d4ebff;}#sk-container-id-6 input.sk-hidden--visually {border: 0;clip: rect(1px 1px 1px 1px);clip: rect(1px, 1px, 1px, 1px);height: 1px;margin: -1px;overflow: hidden;padding: 0;position: absolute;width: 1px;}#sk-container-id-6 div.sk-estimator {font-family: monospace;background-color: #f0f8ff;border: 1px dotted black;border-radius: 0.25em;box-sizing: border-box;margin-bottom: 0.5em;}#sk-container-id-6 div.sk-estimator:hover {background-color: #d4ebff;}#sk-container-id-6 div.sk-parallel-item::after {content: \"\";width: 100%;border-bottom: 1px solid gray;flex-grow: 1;}#sk-container-id-6 div.sk-label:hover label.sk-toggleable__label {background-color: #d4ebff;}#sk-container-id-6 div.sk-serial::before {content: \"\";position: absolute;border-left: 1px solid gray;box-sizing: border-box;top: 0;bottom: 0;left: 50%;z-index: 0;}#sk-container-id-6 div.sk-serial {display: flex;flex-direction: column;align-items: center;background-color: white;padding-right: 0.2em;padding-left: 0.2em;position: relative;}#sk-container-id-6 div.sk-item {position: relative;z-index: 1;}#sk-container-id-6 div.sk-parallel {display: flex;align-items: stretch;justify-content: center;background-color: white;position: relative;}#sk-container-id-6 div.sk-item::before, #sk-container-id-6 div.sk-parallel-item::before {content: \"\";position: absolute;border-left: 1px solid gray;box-sizing: border-box;top: 0;bottom: 0;left: 50%;z-index: -1;}#sk-container-id-6 div.sk-parallel-item {display: flex;flex-direction: column;z-index: 1;position: relative;background-color: white;}#sk-container-id-6 div.sk-parallel-item:first-child::after {align-self: flex-end;width: 50%;}#sk-container-id-6 div.sk-parallel-item:last-child::after {align-self: flex-start;width: 50%;}#sk-container-id-6 div.sk-parallel-item:only-child::after {width: 0;}#sk-container-id-6 div.sk-dashed-wrapped {border: 1px dashed gray;margin: 0 0.4em 0.5em 0.4em;box-sizing: border-box;padding-bottom: 0.4em;background-color: white;}#sk-container-id-6 div.sk-label label {font-family: monospace;font-weight: bold;display: inline-block;line-height: 1.2em;}#sk-container-id-6 div.sk-label-container {text-align: center;}#sk-container-id-6 div.sk-container {/* jupyter's `normalize.less` sets `[hidden] { display: none; }` but bootstrap.min.css set `[hidden] { display: none !important; }` so we also need the `!important` here to be able to override the default hidden behavior on the sphinx rendered scikit-learn.org. See: https://github.com/scikit-learn/scikit-learn/issues/21755 */display: inline-block !important;position: relative;}#sk-container-id-6 div.sk-text-repr-fallback {display: none;}</style><div id=\"sk-container-id-6\" class=\"sk-top-container\"><div class=\"sk-text-repr-fallback\"><pre>LogisticRegression()</pre><b>In a Jupyter environment, please rerun this cell to show the HTML representation or trust the notebook. <br />On GitHub, the HTML representation is unable to render, please try loading this page with nbviewer.org.</b></div><div class=\"sk-container\" hidden><div class=\"sk-item\"><div class=\"sk-estimator sk-toggleable\"><input class=\"sk-toggleable__control sk-hidden--visually\" id=\"sk-estimator-id-6\" type=\"checkbox\" checked><label for=\"sk-estimator-id-6\" class=\"sk-toggleable__label sk-toggleable__label-arrow\">LogisticRegression</label><div class=\"sk-toggleable__content\"><pre>LogisticRegression()</pre></div></div></div></div></div>"
     },
     "execution_count": 38,
     "metadata": {},
     "output_type": "execute_result"
    }
   ],
   "source": [
    "model = LogisticRegression()\n",
    "model.fit(X_train_features, Y_train)"
   ],
   "metadata": {
    "collapsed": false,
    "ExecuteTime": {
     "end_time": "2023-09-25T16:28:47.913913500Z",
     "start_time": "2023-09-25T16:28:47.861909900Z"
    }
   },
   "id": "35d36bba52813342"
  },
  {
   "cell_type": "markdown",
   "source": [
    "Now that we have a fully trained model, we can test our model to see just how well it performs on the test dataset. To do this we shall use accuray_score that's part of sklearn."
   ],
   "metadata": {
    "collapsed": false
   },
   "id": "a426020898f2c980"
  },
  {
   "cell_type": "code",
   "execution_count": 40,
   "outputs": [
    {
     "name": "stdout",
     "output_type": "stream",
     "text": [
      "0.9659192825112107\n"
     ]
    }
   ],
   "source": [
    "y_test_prediction = model.predict(X_test_features)\n",
    "accuracy = accuracy_score(Y_test, y_test_prediction)\n",
    "print(accuracy)"
   ],
   "metadata": {
    "collapsed": false,
    "ExecuteTime": {
     "end_time": "2023-09-25T16:29:44.983866200Z",
     "start_time": "2023-09-25T16:29:44.971707300Z"
    }
   },
   "id": "145b4ad6eb35f5be"
  },
  {
   "cell_type": "markdown",
   "source": [
    "There we go, with that we can see that our model performs really well even on unseen data. Alright, that's it for our third portion. In our next part we're going to tackle sequential data modeling. See you soon. "
   ],
   "metadata": {
    "collapsed": false
   },
   "id": "1870a3f68fb4a1e8"
  },
  {
   "cell_type": "code",
   "execution_count": null,
   "outputs": [],
   "source": [],
   "metadata": {
    "collapsed": false
   },
   "id": "8f5360e5b90c98cc"
  }
 ],
 "metadata": {
  "kernelspec": {
   "display_name": "Python 3",
   "language": "python",
   "name": "python3"
  },
  "language_info": {
   "codemirror_mode": {
    "name": "ipython",
    "version": 2
   },
   "file_extension": ".py",
   "mimetype": "text/x-python",
   "name": "python",
   "nbconvert_exporter": "python",
   "pygments_lexer": "ipython2",
   "version": "2.7.6"
  }
 },
 "nbformat": 4,
 "nbformat_minor": 5
}
