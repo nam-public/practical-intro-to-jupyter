{
 "cells": [
  {
   "cell_type": "markdown",
   "id": "517653bdcd8caa01",
   "metadata": {},
   "source": [
    "# Importing Libraries\n",
    "As usual with our work, we shall start by importing the libraries we need to work with our data.\n",
    "To ensure you have all the libraries we shall use installed, make sure to run the following command in your command line \n",
    "```pip install tensorflow matplotlib seaborn numpy pandas pydot graphviz ``` "
   ]
  },
  {
   "cell_type": "code",
   "execution_count": 1,
   "id": "d9a38f4f19676134",
   "metadata": {
    "ExecuteTime": {
     "end_time": "2023-09-24T20:37:43.563466200Z",
     "start_time": "2023-09-24T20:37:40.909628400Z"
    }
   },
   "outputs": [],
   "source": [
    "import keras.src.initializers.initializers\n",
    "import tensorflow as tf\n",
    "import matplotlib.pyplot as plt\n",
    "import seaborn as sn\n",
    "import numpy as np \n",
    "import pandas as pd\n",
    "import math\n",
    "import datetime\n",
    "import platform\n",
    "from sklearn.manifold import TSNE\n",
    "from sklearn.model_selection import train_test_split"
   ]
  },
  {
   "cell_type": "markdown",
   "id": "1501e6dac6f61156",
   "metadata": {},
   "source": [
    "# Loading Data\n",
    "Let's go ahead and load our data. Since in this case our data is split into two separate files, we won't need to manually split it using a train_test_split. \n",
    "Just to make it clear with the data we are loading in being called 'wdr-test.csv and wdr-train.csv'. The 'wdr' here stands for Written Digit Recognition"
   ]
  },
  {
   "cell_type": "code",
   "execution_count": 2,
   "id": "3569105bcc392c61",
   "metadata": {
    "ExecuteTime": {
     "end_time": "2023-09-24T20:37:48.948837Z",
     "start_time": "2023-09-24T20:37:45.602713800Z"
    }
   },
   "outputs": [],
   "source": [
    "#Load our dataset\n",
    "train_df = pd.read_csv('wdr-train.csv')\n",
    "test_df = pd.read_csv('wdr-test.csv')"
   ]
  },
  {
   "cell_type": "markdown",
   "id": "114cefadb758a3a4",
   "metadata": {},
   "source": [
    "Now, once again after we have loaded our dataset we shall take a minute to try and understand it. "
   ]
  },
  {
   "cell_type": "code",
   "execution_count": 3,
   "id": "264e3011b592e932",
   "metadata": {
    "ExecuteTime": {
     "end_time": "2023-09-24T20:37:49.640229100Z",
     "start_time": "2023-09-24T20:37:49.623449700Z"
    }
   },
   "outputs": [
    {
     "name": "stdout",
     "output_type": "stream",
     "text": [
      "       label  pixel0  pixel1  pixel2  pixel3  pixel4  pixel5  pixel6  pixel7  \\\n",
      "0          1       0       0       0       0       0       0       0       0   \n",
      "1          0       0       0       0       0       0       0       0       0   \n",
      "2          1       0       0       0       0       0       0       0       0   \n",
      "3          4       0       0       0       0       0       0       0       0   \n",
      "4          0       0       0       0       0       0       0       0       0   \n",
      "...      ...     ...     ...     ...     ...     ...     ...     ...     ...   \n",
      "41995      0       0       0       0       0       0       0       0       0   \n",
      "41996      1       0       0       0       0       0       0       0       0   \n",
      "41997      7       0       0       0       0       0       0       0       0   \n",
      "41998      6       0       0       0       0       0       0       0       0   \n",
      "41999      9       0       0       0       0       0       0       0       0   \n",
      "\n",
      "       pixel8  ...  pixel774  pixel775  pixel776  pixel777  pixel778  \\\n",
      "0           0  ...         0         0         0         0         0   \n",
      "1           0  ...         0         0         0         0         0   \n",
      "2           0  ...         0         0         0         0         0   \n",
      "3           0  ...         0         0         0         0         0   \n",
      "4           0  ...         0         0         0         0         0   \n",
      "...       ...  ...       ...       ...       ...       ...       ...   \n",
      "41995       0  ...         0         0         0         0         0   \n",
      "41996       0  ...         0         0         0         0         0   \n",
      "41997       0  ...         0         0         0         0         0   \n",
      "41998       0  ...         0         0         0         0         0   \n",
      "41999       0  ...         0         0         0         0         0   \n",
      "\n",
      "       pixel779  pixel780  pixel781  pixel782  pixel783  \n",
      "0             0         0         0         0         0  \n",
      "1             0         0         0         0         0  \n",
      "2             0         0         0         0         0  \n",
      "3             0         0         0         0         0  \n",
      "4             0         0         0         0         0  \n",
      "...         ...       ...       ...       ...       ...  \n",
      "41995         0         0         0         0         0  \n",
      "41996         0         0         0         0         0  \n",
      "41997         0         0         0         0         0  \n",
      "41998         0         0         0         0         0  \n",
      "41999         0         0         0         0         0  \n",
      "\n",
      "[42000 rows x 785 columns]\n"
     ]
    }
   ],
   "source": [
    "print(train_df)"
   ]
  },
  {
   "cell_type": "markdown",
   "id": "6f40a31f69a26deb",
   "metadata": {},
   "source": [
    "Alright, so here it appears the data has 42,000 items and 785 columns. That's cool and it appears that every single digit we are trying to classify is represented by 785 columns. \n",
    "Next let's do a simple shape print to confirm this."
   ]
  },
  {
   "cell_type": "code",
   "execution_count": 4,
   "id": "298f62fb40d37b34",
   "metadata": {
    "ExecuteTime": {
     "end_time": "2023-09-24T20:37:51.268913800Z",
     "start_time": "2023-09-24T20:37:51.256433700Z"
    }
   },
   "outputs": [
    {
     "name": "stdout",
     "output_type": "stream",
     "text": [
      "train shape:  (42000, 785)\n",
      "test shape:  (28000, 784)\n"
     ]
    }
   ],
   "source": [
    "print('train shape: ', train_df.shape)\n",
    "print('test shape: ', test_df.shape)"
   ]
  },
  {
   "cell_type": "markdown",
   "id": "2d760c9241b5a132",
   "metadata": {},
   "source": [
    "The shape here shows us that while the training data has 785 pixel per character, it would appear the testing data frame has 784 instead. \n",
    "Next, let's work on splitting our data into the inputs and outputs. Again, the X and Y."
   ]
  },
  {
   "cell_type": "code",
   "execution_count": 5,
   "id": "aa929234800328fd",
   "metadata": {
    "ExecuteTime": {
     "end_time": "2023-09-24T20:37:52.876907200Z",
     "start_time": "2023-09-24T20:37:52.863503800Z"
    }
   },
   "outputs": [],
   "source": [
    "X = train_df.iloc[:, 1:785] #Here we are selecting all columns (:) and columns from 1-785\n",
    "Y = train_df.iloc[:, 0] #Then we select the first column which is the identity of the numbers\n",
    "# Let's pick out our test data as well\n",
    "X_test = test_df.iloc[:,1:784] "
   ]
  },
  {
   "cell_type": "markdown",
   "id": "29ebc23178581736",
   "metadata": {},
   "source": [
    "Next we're going to perform our main objective today, we're going to visualize large data. Now in our case, it's not that the data is exceptionally large, rather it's that the data has very many features. \n",
    "\n",
    "Because our data is made up of 785 columns, it's extremely high dimensional data. This means that by simply printing the data, we can't really find a way to understand it. This is where dimensionality reduction comes in handy. \n",
    "\n",
    "We are going to use t_SNE to help us bring doing down our dataset into 2 axes. Then we shall use a scatter plot to visualize this data. "
   ]
  },
  {
   "cell_type": "code",
   "execution_count": null,
   "id": "b73db608c1d6990e",
   "metadata": {},
   "outputs": [],
   "source": [
    "X_tsn = X/255\n",
    "tsne = TSNE()\n",
    "tsne_res = tsne.fit_transform(X_tsn)\n",
    "plt.figure(figsize=(14,12))\n",
    "plt.scatter(tsne_res[:,0], tsne_res[:,1],c=Y,s=2)\n",
    "plt.colorbar()"
   ]
  },
  {
   "cell_type": "markdown",
   "id": "8e219b3f4e66a906",
   "metadata": {},
   "source": [
    "Think of the space of the graph as spaces that represent locations of pixel. The graph shows then, that specific numbers use specific pixel more than other numbers do, aside from a few outliers. This forms the basis for our AI analysis to begin. \n",
    "\n",
    "Let's now move on to creating a validation and training set for our data. "
   ]
  },
  {
   "cell_type": "code",
   "execution_count": 6,
   "id": "5cd3856bc37c5be0",
   "metadata": {
    "ExecuteTime": {
     "end_time": "2023-09-24T20:37:57.303000700Z",
     "start_time": "2023-09-24T20:37:57.119451900Z"
    }
   },
   "outputs": [
    {
     "name": "stdout",
     "output_type": "stream",
     "text": [
      "X_train shape:  (33600, 784)\n",
      "X_validation shape:  (8400, 784)\n",
      "Y_train shape:  (33600,)\n",
      "Y_validation shape:  (8400,)\n"
     ]
    }
   ],
   "source": [
    "X_train, X_validation, Y_train, Y_validation = train_test_split(X, Y, test_size=0.2, random_state=1212)\n",
    "print(\"X_train shape: \",X_train.shape)\n",
    "print(\"X_validation shape: \",X_validation.shape)\n",
    "print(\"Y_train shape: \",Y_train.shape)\n",
    "print(\"Y_validation shape: \",Y_validation.shape)"
   ]
  },
  {
   "cell_type": "markdown",
   "id": "b240deb1cb2028f7",
   "metadata": {},
   "source": [
    "Now we want to convert our data into arrays. Because our data is an array of images, we need to convert each image from a 1D list of images to a 2D grid of the same image data but now arranged in a similar way pixels would. \n",
    "\n",
    "As you can see from our logs above, the test data frame contains 33600 items while the training set contains 8400 and each have 784 items. The number 784 is actually a square number, so we can tell that the images are square images, having an area of 784 meaning a height and width of 28x28. To change our data into an array we shall use numpy reshape which takes in 3 params which our case will correspond to (image_count, width, length). Then we proceed to do the same for the other items in our array. "
   ]
  },
  {
   "cell_type": "code",
   "execution_count": 26,
   "id": "eac338c01b542c0b",
   "metadata": {
    "ExecuteTime": {
     "end_time": "2023-09-24T21:01:43.894962200Z",
     "start_time": "2023-09-24T21:01:43.875975100Z"
    }
   },
   "outputs": [],
   "source": [
    "x_train_arr = X_train.to_numpy().reshape(33600,28,28)\n",
    "y_train_arr = Y_train.values\n",
    "x_validation_arr = X_validation.to_numpy().reshape(8400,28,28)\n",
    "y_validation_arr = Y_validation.values\n",
    "x_test_arr = test_df.to_numpy().reshape(28000, 28,28)"
   ]
  },
  {
   "cell_type": "markdown",
   "id": "fc1d7c6539b9d777",
   "metadata": {},
   "source": [
    "Now let's save our data shape to some variables. "
   ]
  },
  {
   "cell_type": "code",
   "execution_count": 8,
   "id": "6d715f20c86c71b6",
   "metadata": {
    "ExecuteTime": {
     "end_time": "2023-09-24T20:38:01.997230100Z",
     "start_time": "2023-09-24T20:38:01.985228900Z"
    }
   },
   "outputs": [],
   "source": [
    "(_, IMAGE_WIDTH, IMAGE_HEIGHT) = x_train_arr.shape\n",
    "IMAGE_CHANNELS = 1"
   ]
  },
  {
   "cell_type": "markdown",
   "id": "129135b18c986ba5",
   "metadata": {},
   "source": [
    "Now, what's the point of organizing our data into image space if we can't visualize it? Well, we can. "
   ]
  },
  {
   "cell_type": "code",
   "execution_count": 9,
   "id": "7d396ba5fe512533",
   "metadata": {
    "ExecuteTime": {
     "end_time": "2023-09-24T20:38:02.865343300Z",
     "start_time": "2023-09-24T20:38:02.640070200Z"
    }
   },
   "outputs": [
    {
     "data": {
      "text/plain": "<Figure size 640x480 with 1 Axes>",
      "image/png": "[encoded data removed]"
     },
     "metadata": {},
     "output_type": "display_data"
    }
   ],
   "source": [
    "plt.imshow(x_train_arr[2], cmap=plt.cm.binary)\n",
    "plt.show()"
   ]
  },
  {
   "cell_type": "markdown",
   "id": "a87d6b447ada3b61",
   "metadata": {},
   "source": [
    "Alright, now that we have our images set out into grids that can be visualized, we need make one last change. Images normally come in as a grid of pixels and that's why we have organized them into a 2D grid. However, each pixel normally has 3 channels (RGB) and thus we need yet another dimension to our data, 3 additional channels to which we can add values for the amount of RGB in each image. Luckily, this is easy to achieve. "
   ]
  },
  {
   "cell_type": "code",
   "execution_count": 0,
   "id": "dde8e6d5a1846604",
   "metadata": {},
   "outputs": [],
   "source": [
    "x_train_with_channels = x_train_arr.reshape(\n",
    "    x_train_arr.shape[0],  # Number of images (assuming the first dimension is the number of images)\n",
    "    IMAGE_WIDTH,            # Width of each image\n",
    "    IMAGE_HEIGHT,           # Height of each image\n",
    "    IMAGE_CHANNELS          # Number of channels (e.g., 1 for grayscale, 3 for RGB)\n",
    ")\n",
    "\n",
    "x_validation_with_channels = x_validation_arr.reshape(\n",
    "    x_validation_arr.shape[0],\n",
    "    IMAGE_WIDTH,\n",
    "    IMAGE_HEIGHT,\n",
    "    IMAGE_CHANNELS\n",
    ")\n",
    "x_test_with_channels = x_test_arr.reshape(\n",
    "    x_test_arr.shape[0],\n",
    "    IMAGE_WIDTH,\n",
    "    IMAGE_HEIGHT,\n",
    "    IMAGE_CHANNELS\n",
    ")\n",
    "\n",
    "print('x_train_with_channels:', x_train_with_channels.shape)\n",
    "print('x_validation_with_channels:', x_validation_with_channels.shape)\n",
    "print('x_test_with_channels:', x_test_with_channels.shape)"
   ]
  },
  {
   "cell_type": "markdown",
   "source": [
    "Then we need to normalize our data."
   ],
   "metadata": {
    "collapsed": false
   },
   "id": "c05e2a0ff2576af"
  },
  {
   "cell_type": "code",
   "execution_count": 15,
   "outputs": [],
   "source": [
    "x_train_normalized = x_train_with_channels / 255\n",
    "x_validation_normalized = x_validation_with_channels / 255\n",
    "x_test_normalized = x_test_with_channels / 255"
   ],
   "metadata": {
    "collapsed": false,
    "ExecuteTime": {
     "end_time": "2023-09-24T20:42:01.832165900Z",
     "start_time": "2023-09-24T20:42:01.697129200Z"
    }
   },
   "id": "4296a2d85fcee9a1"
  },
  {
   "cell_type": "markdown",
   "id": "322dd0a023e2d810",
   "metadata": {},
   "source": [
    "# Building our Model\n",
    "We're finally here. Now that we have understood how our AI can classify data, we can choose a suitable model and start to train it. Because our problem is one of image recognition, there is no doubt that our best candidate here is a Convolutional Neural Network. \n",
    "\n",
    "Since we're working with a  convolutional model this time, the setup process for our model is going to be a bit more complex as it will have multiple layers that I will outline. \n",
    "\n",
    "We shall have two convolutional layers to try and extract the features from the data set. Then we shall apply a dropout to reduce the dependence of the model on the data, and finally we pass the data through a Dense layer to classify the data. The output is a 10-dimensional vector where every item represents a number from 0-10. Let's take a look at what this looks like."
   ]
  },
  {
   "cell_type": "code",
   "execution_count": 11,
   "id": "31b8f31b767c49b4",
   "metadata": {
    "ExecuteTime": {
     "end_time": "2023-09-24T20:38:07.053602400Z",
     "start_time": "2023-09-24T20:38:06.909291600Z"
    }
   },
   "outputs": [],
   "source": [
    "model = tf.keras.models.Sequential()\n",
    "\n",
    "# Add a convolutional layer to the neural network model\n",
    "model.add(tf.keras.layers.Convolution2D(\n",
    "    input_shape=(IMAGE_WIDTH, IMAGE_HEIGHT, IMAGE_CHANNELS),  # Input shape for images\n",
    "    kernel_size=5,  # Size of the convolutional kernel (5x5)\n",
    "    filters=8,  # Number of filters (output channels)\n",
    "    strides=1,  # Stride of the convolution operation (1 pixel at a time)\n",
    "    activation=tf.keras.activations.relu,  # Rectified Linear Unit (ReLU) activation\n",
    "    kernel_initializer=tf.keras.initializers.VarianceScaling()  # Weight initialization\n",
    "))\n",
    "\n",
    "# Add a MaxPooling layer to the neural network model\n",
    "model.add(tf.keras.layers.MaxPooling2D(\n",
    "    pool_size=(2, 2),   # Size of the pooling window (2x2)\n",
    "    strides=(2, 2)      # Strides for the pooling operation (2 pixels at a time)\n",
    "))\n",
    "\n",
    "model.add(tf.keras.layers.Convolution2D(\n",
    "    kernel_size=5,\n",
    "    filters=16,\n",
    "    strides=1,\n",
    "    activation=tf.keras.activations.relu,\n",
    "    kernel_initializer=tf.keras.initializers.VarianceScaling()\n",
    "))\n",
    "\n",
    "model.add(tf.keras.layers.MaxPooling2D(\n",
    "    pool_size=(2, 2),\n",
    "    strides=(2, 2)\n",
    "))\n",
    "\n",
    "# Add a Flatten layer to the neural network model\n",
    "model.add(tf.keras.layers.Flatten())\n",
    "\n",
    "# Add a Dense (fully connected) layer to the neural network model\n",
    "model.add(tf.keras.layers.Dense(\n",
    "    units=128,                      # Number of neurons (units) in the layer\n",
    "    activation=tf.keras.activations.relu  # Activation function (Rectified Linear Unit - ReLU)\n",
    "))\n",
    "\n",
    "# Add a Dropout layer to the neural network model\n",
    "model.add(tf.keras.layers.Dropout(0.2))\n",
    "\n",
    "# Add a Dense (fully connected) output layer to the neural network model\n",
    "model.add(tf.keras.layers.Dense(\n",
    "    units=10,                             # Number of output units (e.g., for classification)\n",
    "    activation=tf.keras.activations.softmax,  # Activation function (softmax for multi-class classification)\n",
    "    kernel_initializer=tf.keras.initializers.VarianceScaling()  # Weight initialization\n",
    "))"
   ]
  },
  {
   "cell_type": "code",
   "execution_count": 12,
   "id": "78af5f92a7b37438",
   "metadata": {
    "ExecuteTime": {
     "end_time": "2023-09-24T20:38:08.402046500Z",
     "start_time": "2023-09-24T20:38:08.313416600Z"
    }
   },
   "outputs": [
    {
     "name": "stdout",
     "output_type": "stream",
     "text": [
      "Model: \"sequential\"\n",
      "_________________________________________________________________\n",
      " Layer (type)                Output Shape              Param #   \n",
      "=================================================================\n",
      " conv2d (Conv2D)             (None, 24, 24, 8)         208       \n",
      "                                                                 \n",
      " max_pooling2d (MaxPooling2  (None, 12, 12, 8)         0         \n",
      " D)                                                              \n",
      "                                                                 \n",
      " conv2d_1 (Conv2D)           (None, 8, 8, 16)          3216      \n",
      "                                                                 \n",
      " max_pooling2d_1 (MaxPoolin  (None, 4, 4, 16)          0         \n",
      " g2D)                                                            \n",
      "                                                                 \n",
      " flatten (Flatten)           (None, 256)               0         \n",
      "                                                                 \n",
      " dense (Dense)               (None, 128)               32896     \n",
      "                                                                 \n",
      " dropout (Dropout)           (None, 128)               0         \n",
      "                                                                 \n",
      " dense_1 (Dense)             (None, 10)                1290      \n",
      "                                                                 \n",
      "=================================================================\n",
      "Total params: 37610 (146.91 KB)\n",
      "Trainable params: 37610 (146.91 KB)\n",
      "Non-trainable params: 0 (0.00 Byte)\n",
      "_________________________________________________________________\n"
     ]
    }
   ],
   "source": [
    "model.summary()"
   ]
  },
  {
   "cell_type": "markdown",
   "id": "51981b3f",
   "metadata": {},
   "source": [
    "Alright, now we can see our model is made up of basically 2 main layers. An initial group that contains the convolutional 2D nodes and then a group after that which contains the Dense layers and a dropout layer. \n",
    "\n",
    "Let's go ahead and print a simple flow chart to further visualize information flow in our model."
   ]
  },
  {
   "cell_type": "code",
   "execution_count": 13,
   "id": "7c95d919",
   "metadata": {
    "ExecuteTime": {
     "end_time": "2023-09-24T20:38:09.912699300Z",
     "start_time": "2023-09-24T20:38:09.799849700Z"
    }
   },
   "outputs": [
    {
     "data": {
      "image/png": "[encoded data removed]",
      "text/plain": "<IPython.core.display.Image object>"
     },
     "execution_count": 13,
     "metadata": {},
     "output_type": "execute_result"
    }
   ],
   "source": [
    "tf.keras.utils.plot_model(\n",
    "    model,\n",
    "    show_shapes=True,\n",
    "    show_layer_names=True,\n",
    ")"
   ]
  },
  {
   "cell_type": "markdown",
   "source": [
    "Alright, that's just a summary of our model. Let's go ahead and prepare our model for training by compiling."
   ],
   "metadata": {
    "collapsed": false
   },
   "id": "d7ce4cc515b5d846"
  },
  {
   "cell_type": "code",
   "execution_count": 14,
   "outputs": [],
   "source": [
    "adam_optimizer = tf.keras.optimizers.Adam(learning_rate=0.001)\n",
    "model.compile(\n",
    "    optimizer=adam_optimizer,\n",
    "    loss=tf.keras.losses.sparse_categorical_crossentropy,\n",
    "    metrics=['accuracy']\n",
    ")"
   ],
   "metadata": {
    "collapsed": false,
    "ExecuteTime": {
     "end_time": "2023-09-24T20:39:10.203339400Z",
     "start_time": "2023-09-24T20:39:10.174669200Z"
    }
   },
   "id": "186b825ec7e0add2"
  },
  {
   "cell_type": "markdown",
   "source": [
    "Finally, now we can train our model."
   ],
   "metadata": {
    "collapsed": false
   },
   "id": "8b05e39ad40bf112"
  },
  {
   "cell_type": "code",
   "execution_count": 17,
   "outputs": [
    {
     "name": "stdout",
     "output_type": "stream",
     "text": [
      "Epoch 1/10\n",
      "1050/1050 [==============================] - 8s 7ms/step - loss: 0.2667 - accuracy: 0.9176 - val_loss: 0.0908 - val_accuracy: 0.9733\n",
      "Epoch 2/10\n",
      "1050/1050 [==============================] - 7s 6ms/step - loss: 0.0879 - accuracy: 0.9727 - val_loss: 0.0603 - val_accuracy: 0.9814\n",
      "Epoch 3/10\n",
      "1050/1050 [==============================] - 7s 6ms/step - loss: 0.0613 - accuracy: 0.9800 - val_loss: 0.0575 - val_accuracy: 0.9849\n",
      "Epoch 4/10\n",
      "1050/1050 [==============================] - 7s 6ms/step - loss: 0.0478 - accuracy: 0.9844 - val_loss: 0.0498 - val_accuracy: 0.9857\n",
      "Epoch 5/10\n",
      "1050/1050 [==============================] - 7s 6ms/step - loss: 0.0410 - accuracy: 0.9871 - val_loss: 0.0512 - val_accuracy: 0.9849\n",
      "Epoch 6/10\n",
      "1050/1050 [==============================] - 7s 6ms/step - loss: 0.0353 - accuracy: 0.9894 - val_loss: 0.0449 - val_accuracy: 0.9873\n",
      "Epoch 7/10\n",
      "1050/1050 [==============================] - 7s 6ms/step - loss: 0.0303 - accuracy: 0.9900 - val_loss: 0.0493 - val_accuracy: 0.9865\n",
      "Epoch 8/10\n",
      "1050/1050 [==============================] - 7s 7ms/step - loss: 0.0264 - accuracy: 0.9915 - val_loss: 0.0460 - val_accuracy: 0.9867\n",
      "Epoch 9/10\n",
      "1050/1050 [==============================] - 7s 6ms/step - loss: 0.0228 - accuracy: 0.9924 - val_loss: 0.0431 - val_accuracy: 0.9887\n",
      "Epoch 10/10\n",
      "1050/1050 [==============================] - 7s 6ms/step - loss: 0.0187 - accuracy: 0.9939 - val_loss: 0.0452 - val_accuracy: 0.9898\n",
      "The model has successfully trained\n"
     ]
    }
   ],
   "source": [
    "log_dir=\".logs/fit/\" + datetime.datetime.now().strftime(\"%Y%m%d-%H%M%S\")\n",
    "tensorboard_callback = tf.keras.callbacks.TensorBoard(log_dir=log_dir, histogram_freq=1)\n",
    "training_history = model.fit(\n",
    "    x_train_normalized,\n",
    "    y_train_arr,\n",
    "    epochs=10,\n",
    "    validation_data=(x_validation_normalized, y_validation_arr),\n",
    "    callbacks=[tensorboard_callback]\n",
    ")\n",
    "print(\"The model has successfully trained\")"
   ],
   "metadata": {
    "collapsed": false,
    "ExecuteTime": {
     "end_time": "2023-09-24T20:43:44.978251200Z",
     "start_time": "2023-09-24T20:42:35.280383700Z"
    }
   },
   "id": "faa403f00f93231a"
  },
  {
   "cell_type": "markdown",
   "source": [
    "# Evaluating Our Model\n",
    "Alright, so we're finally here. We have our trained model, let's run some evaluations to see how the model performs. Unlike our previous model though where we didn't really have any data save during our model training, tensorflow give us a history variable that allows us to see information about how our training went. Let's start by plotting this. "
   ],
   "metadata": {
    "collapsed": false
   },
   "id": "fce8f1a140f0b50f"
  },
  {
   "cell_type": "code",
   "execution_count": 20,
   "outputs": [
    {
     "data": {
      "text/plain": "<matplotlib.legend.Legend at 0x1a8f72023d0>"
     },
     "execution_count": 20,
     "metadata": {},
     "output_type": "execute_result"
    },
    {
     "data": {
      "text/plain": "<Figure size 640x480 with 1 Axes>",
      "image/png": "[encoded data removed]"
     },
     "metadata": {},
     "output_type": "display_data"
    }
   ],
   "source": [
    "plt.xlabel(\"Epoch Count\")\n",
    "plt.ylabel(\"Performance\")\n",
    "plt.plot(training_history.history['accuracy'], label='training_set')\n",
    "plt.plot(training_history.history['val_accuracy'], label='validation_set')\n",
    "plt.legend()"
   ],
   "metadata": {
    "collapsed": false,
    "ExecuteTime": {
     "end_time": "2023-09-24T20:51:44.320167Z",
     "start_time": "2023-09-24T20:51:44.119856400Z"
    }
   },
   "id": "d4bc21e2147e62b1"
  },
  {
   "cell_type": "markdown",
   "source": [
    "As we can see, for our training set, the model initially has no idea what's going on but then later starts to get very good at classifying the digits. \n",
    "\n",
    "Now, as you might recall, we also have a testing set to test the model on, let's give that a try and see how it performs."
   ],
   "metadata": {
    "collapsed": false
   },
   "id": "25031d868a42594f"
  },
  {
   "cell_type": "code",
   "execution_count": 29,
   "outputs": [
    {
     "name": "stdout",
     "output_type": "stream",
     "text": [
      "263/263 [==============================] - 1s 3ms/step - loss: 0.0452 - accuracy: 0.9898\n",
      "Validation loss:  0.04523501545190811\n",
      "Validation accuracy:  0.9897618889808655\n"
     ]
    }
   ],
   "source": [
    "validation_loss, validation_accuracy = model.evaluate(x_validation_normalized, y_validation_arr)\n",
    "print('Validation loss: ', validation_loss)\n",
    "print('Validation accuracy: ', validation_accuracy)"
   ],
   "metadata": {
    "collapsed": false,
    "ExecuteTime": {
     "end_time": "2023-09-24T21:03:23.353796800Z",
     "start_time": "2023-09-24T21:03:22.466435600Z"
    }
   },
   "id": "4c9b14ff5b56010c"
  },
  {
   "cell_type": "markdown",
   "source": [
    "Interesting, our model has learned to classify the handwritten digits to near 100% accuracy. \n",
    "\n",
    "Alright, that's the final part of our Handling Large Data in Jupyter tutorial, we've handled and performed extensive amounts of modifications on the Data frame we had today, and it gave an opportunity to learn a lot of the data manipulation that's sometimes needed to deal with this kind of data.\n",
    "\n",
    "Our next part is going to be quite interesting as well shall deal with Spam Email Detection with the primary focus of learning how to perform feature extraction on our data. Hope to see you soon!"
   ],
   "metadata": {
    "collapsed": false
   },
   "id": "9ef24d5aa5d02efa"
  },
  {
   "cell_type": "code",
   "execution_count": null,
   "outputs": [],
   "source": [],
   "metadata": {
    "collapsed": false
   },
   "id": "1960c1ae0b229a6e"
  }
 ],
 "metadata": {
  "kernelspec": {
   "display_name": "Python 3 (ipykernel)",
   "language": "python",
   "name": "python3"
  },
  "language_info": {
   "codemirror_mode": {
    "name": "ipython",
    "version": 3
   },
   "file_extension": ".py",
   "mimetype": "text/x-python",
   "name": "python",
   "nbconvert_exporter": "python",
   "pygments_lexer": "ipython3",
   "version": "3.11.4"
  }
 },
 "nbformat": 4,
 "nbformat_minor": 5
}
